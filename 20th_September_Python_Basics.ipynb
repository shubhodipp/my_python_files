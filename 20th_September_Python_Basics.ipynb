{
 "cells": [
  {
   "cell_type": "code",
   "execution_count": 2,
   "id": "a4faa331",
   "metadata": {},
   "outputs": [
    {
     "name": "stdout",
     "output_type": "stream",
     "text": [
      "Before swapping x: 20 and y: 45\n",
      "After swapping, values of x: 45 and y: 20\n"
     ]
    }
   ],
   "source": [
    "#Swap the values of the given variables without using any temporary variable.\n",
    "x,y=20,45\n",
    "print(\"Before swapping x:\",x,\"and y:\",y)\n",
    "x=x+y\n",
    "y=x-y\n",
    "x=x-y\n",
    "print(\"After swapping, values of x:\",x,\"and y:\",y)"
   ]
  },
  {
   "cell_type": "code",
   "execution_count": 4,
   "id": "44850290",
   "metadata": {},
   "outputs": [
    {
     "name": "stdout",
     "output_type": "stream",
     "text": [
      "Enter the length of the rectangle: 14\n",
      "Enter the width of the rectangle: 7\n",
      "Area of the rectangle is:  98\n"
     ]
    }
   ],
   "source": [
    "#Create a program that calculates the area of a rectangle.\n",
    "l=int(input(\"Enter the length of the rectangle: \"))\n",
    "w=int(input(\"Enter the width of the rectangle: \"))\n",
    "area=(l*w)\n",
    "print(\"Area of the rectangle is: \",area)"
   ]
  },
  {
   "cell_type": "code",
   "execution_count": 5,
   "id": "388e581c",
   "metadata": {},
   "outputs": [
    {
     "name": "stdout",
     "output_type": "stream",
     "text": [
      "Enter the temperature in Celcius: 98\n",
      "Temperature-reading in the Fahrenheit scale is: 208.4\n"
     ]
    }
   ],
   "source": [
    "#Write a program that converts temperatures from Celsius to Fahrenheit.\n",
    "c=float(input(\"Enter the temperature in Celcius: \"))\n",
    "f=float((c*9/5)+32)\n",
    "print(\"Temperature-reading in the Fahrenheit scale is:\",f)"
   ]
  },
  {
   "cell_type": "code",
   "execution_count": 6,
   "id": "1359cd2d",
   "metadata": {},
   "outputs": [
    {
     "name": "stdout",
     "output_type": "stream",
     "text": [
      "Enter a string value: shubhadeep banerjee\n",
      "The length of the given string is: 19\n"
     ]
    }
   ],
   "source": [
    "#Write a program that takes a string as input and prints the length of the string.\n",
    "s=input(\"Enter a string value: \")\n",
    "n=len(s)\n",
    "print(\"The length of the given string is:\",n)"
   ]
  },
  {
   "cell_type": "code",
   "execution_count": 8,
   "id": "ed544bcc",
   "metadata": {},
   "outputs": [
    {
     "name": "stdout",
     "output_type": "stream",
     "text": [
      "Enter a string value: I stay in Kolkata\n",
      "Number of vowels in the given string are: 6\n"
     ]
    }
   ],
   "source": [
    "#Create a program that takes a sentence from the user and counts the number of vowels (a, e, i, o, u) in the string.\n",
    "str=input(\"Enter a string value: \")\n",
    "vowel=set(\"aeiouAEIOU\")\n",
    "c=0\n",
    "for i in str:\n",
    "    if i in vowel:\n",
    "        c=c+1\n",
    "print(\"Number of vowels in the given string are:\",c)"
   ]
  },
  {
   "cell_type": "code",
   "execution_count": 9,
   "id": "ac78c589",
   "metadata": {},
   "outputs": [
    {
     "name": "stdout",
     "output_type": "stream",
     "text": [
      "Enter a string: Hello World!\n",
      "Reverse of the given string is: !dlroW olleH\n"
     ]
    }
   ],
   "source": [
    "#Reverse the order of characters using string slicing and print the reversed string.\n",
    "s=input(\"Enter a string: \")\n",
    "print(\"Reverse of the given string is:\",s[::-1])"
   ]
  },
  {
   "cell_type": "code",
   "execution_count": 10,
   "id": "7c78af69",
   "metadata": {},
   "outputs": [
    {
     "name": "stdout",
     "output_type": "stream",
     "text": [
      "Enter a string: malayalam\n",
      "malayalam is a palindrome string.\n"
     ]
    }
   ],
   "source": [
    "#Write a program that takes a string as input and checks if it is a palindrome or not.\n",
    "str=input(\"Enter a string: \")\n",
    "str_rev=str[::-1]\n",
    "if str == str_rev:\n",
    "    print(str,\"is a palindrome string.\")\n",
    "else:\n",
    "    print(str,\"is not a palindrome string.\")"
   ]
  },
  {
   "cell_type": "code",
   "execution_count": 11,
   "id": "de231cb0",
   "metadata": {},
   "outputs": [
    {
     "name": "stdout",
     "output_type": "stream",
     "text": [
      "Enter a string: My name is Shubhadeep.\n",
      "The modified string is: MynameisShubhadeep.\n"
     ]
    }
   ],
   "source": [
    "#Create a program that takes a string as input and removes all the spaces from it.\n",
    "s=input(\"Enter a string: \")\n",
    "print(\"The modified string is:\",s.replace(\" \",\"\"))"
   ]
  }
 ],
 "metadata": {
  "kernelspec": {
   "display_name": "Python 3 (ipykernel)",
   "language": "python",
   "name": "python3"
  },
  "language_info": {
   "codemirror_mode": {
    "name": "ipython",
    "version": 3
   },
   "file_extension": ".py",
   "mimetype": "text/x-python",
   "name": "python",
   "nbconvert_exporter": "python",
   "pygments_lexer": "ipython3",
   "version": "3.11.4"
  }
 },
 "nbformat": 4,
 "nbformat_minor": 5
}
